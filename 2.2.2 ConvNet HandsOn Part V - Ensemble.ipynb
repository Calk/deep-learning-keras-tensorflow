{
 "cells": [
  {
   "cell_type": "code",
   "execution_count": 1,
   "metadata": {
    "collapsed": false
   },
   "outputs": [
    {
     "name": "stderr",
     "output_type": "stream",
     "text": [
      "Using TensorFlow backend.\n"
     ]
    }
   ],
   "source": [
    "import numpy as np\n",
    "from keras.datasets import cifar10\n",
    "import matplotlib.pyplot as plt\n",
    "%matplotlib inline"
   ]
  },
  {
   "cell_type": "code",
   "execution_count": 2,
   "metadata": {
    "collapsed": false
   },
   "outputs": [],
   "source": [
    "(X_train, y_train), (X_test, y_test) = cifar10.load_data()\n",
    "\n",
    "X_train = np.swapaxes(X_train,1,3)\n",
    "X_train = np.swapaxes(X_train,1,2)\n",
    "\n",
    "X_test = np.swapaxes(X_test,1,3)\n",
    "X_test = np.swapaxes(X_test,1,2)"
   ]
  },
  {
   "cell_type": "code",
   "execution_count": 3,
   "metadata": {
    "collapsed": true
   },
   "outputs": [],
   "source": [
    "# exercise - implement convnet on Cifar10\n",
    "from keras.models import Sequential\n",
    "from keras.layers.core import Dense, Dropout, Activation, Flatten\n",
    "from keras.layers.convolutional import Convolution2D\n",
    "from keras.layers.pooling import MaxPooling2D\n",
    "from keras.utils import np_utils\n",
    "from keras.optimizers import SGD"
   ]
  },
  {
   "cell_type": "code",
   "execution_count": 4,
   "metadata": {
    "collapsed": true
   },
   "outputs": [],
   "source": [
    "import tensorflow as tf\n",
    "tf.python.control_flow_ops = tf"
   ]
  },
  {
   "cell_type": "code",
   "execution_count": 5,
   "metadata": {
    "collapsed": false
   },
   "outputs": [],
   "source": [
    "img_rows, img_cols = 32, 32\n",
    "nb_classes = 10\n",
    "\n",
    "X_train = X_train.reshape(X_train.shape[0], img_rows, img_cols,3)\n",
    "X_test = X_test.reshape(X_test.shape[0], img_rows, img_cols,3)\n",
    "\n",
    "X_train = X_train.astype('float32')\n",
    "X_test = X_test.astype('float32')\n",
    "\n",
    "X_train /= 255\n",
    "X_test /= 255\n",
    "\n",
    "Y_train = np_utils.to_categorical(y_train,nb_classes)\n",
    "Y_test = np_utils.to_categorical(y_test,nb_classes)"
   ]
  },
  {
   "cell_type": "code",
   "execution_count": 6,
   "metadata": {
    "collapsed": false
   },
   "outputs": [
    {
     "name": "stdout",
     "output_type": "stream",
     "text": [
      "(50000, 32, 32, 3) (50000, 10) (10000, 32, 32, 3) (10000, 10)\n"
     ]
    }
   ],
   "source": [
    "print(X_train.shape, Y_train.shape, X_test.shape, Y_test.shape)"
   ]
  },
  {
   "cell_type": "markdown",
   "metadata": {
    "collapsed": true
   },
   "source": [
    "# Model 1"
   ]
  },
  {
   "cell_type": "code",
   "execution_count": 7,
   "metadata": {
    "collapsed": false
   },
   "outputs": [
    {
     "name": "stdout",
     "output_type": "stream",
     "text": [
      "Train on 50000 samples, validate on 10000 samples\n",
      "Epoch 1/5\n",
      "50000/50000 [==============================] - 109s - loss: 1.9178 - acc: 0.3163 - val_loss: 1.7353 - val_acc: 0.3908\n",
      "Epoch 2/5\n",
      "50000/50000 [==============================] - 110s - loss: 1.5850 - acc: 0.4399 - val_loss: 1.4672 - val_acc: 0.4754\n",
      "Epoch 3/5\n",
      "50000/50000 [==============================] - 109s - loss: 1.4055 - acc: 0.5032 - val_loss: 1.3536 - val_acc: 0.5161\n",
      "Epoch 4/5\n",
      "50000/50000 [==============================] - 112s - loss: 1.2988 - acc: 0.5410 - val_loss: 1.3922 - val_acc: 0.5118\n",
      "Epoch 5/5\n",
      "50000/50000 [==============================] - 114s - loss: 1.2284 - acc: 0.5683 - val_loss: 1.2367 - val_acc: 0.5681\n",
      "Test score: 1.23666608181\n",
      "Test accuracy: 0.5681\n"
     ]
    }
   ],
   "source": [
    "model1 = Sequential()\n",
    "model1.add(Convolution2D(32, 3, 3,\n",
    "                    border_mode='valid',\n",
    "                    input_shape=(img_rows, img_cols,3)))\n",
    "model1.add(Activation('relu'))\n",
    "model1.add(MaxPooling2D(pool_size=(2, 2)))\n",
    "model1.add(Flatten())\n",
    "model1.add(Dense(128))\n",
    "model1.add(Activation('relu'))\n",
    "model1.add(Dense(nb_classes))\n",
    "model1.add(Activation('softmax'))\n",
    "\n",
    "model1.compile(loss='categorical_crossentropy',\n",
    "          optimizer='sgd',\n",
    "          metrics=['accuracy'])\n",
    "\n",
    "model1.fit(X_train, Y_train, batch_size=32, \n",
    "          nb_epoch=5,verbose=1,\n",
    "          validation_data=(X_test, Y_test))\n",
    "\n",
    "\n",
    "#Evaluating the model on the test data    \n",
    "score, accuracy = model1.evaluate(X_test, Y_test, verbose=0)\n",
    "print('Test score:', score)\n",
    "print('Test accuracy:', accuracy)"
   ]
  },
  {
   "cell_type": "markdown",
   "metadata": {},
   "source": [
    "# Model 2"
   ]
  },
  {
   "cell_type": "code",
   "execution_count": 8,
   "metadata": {
    "collapsed": false
   },
   "outputs": [
    {
     "name": "stdout",
     "output_type": "stream",
     "text": [
      "Train on 50000 samples, validate on 10000 samples\n",
      "Epoch 1/10\n",
      "50000/50000 [==============================] - 84s - loss: 2.2940 - acc: 0.1305 - val_loss: 2.2315 - val_acc: 0.1439\n",
      "Epoch 2/10\n",
      "50000/50000 [==============================] - 85s - loss: 2.0279 - acc: 0.2380 - val_loss: 1.9487 - val_acc: 0.2829\n",
      "Epoch 3/10\n",
      "50000/50000 [==============================] - 86s - loss: 1.9117 - acc: 0.2897 - val_loss: 1.8835 - val_acc: 0.3036\n",
      "Epoch 4/10\n",
      "50000/50000 [==============================] - 89s - loss: 1.8557 - acc: 0.3143 - val_loss: 1.8670 - val_acc: 0.3283\n",
      "Epoch 5/10\n",
      "50000/50000 [==============================] - 91s - loss: 1.7490 - acc: 0.3590 - val_loss: 1.7147 - val_acc: 0.3745\n",
      "Epoch 6/10\n",
      "50000/50000 [==============================] - 85s - loss: 1.6772 - acc: 0.3894 - val_loss: 1.6468 - val_acc: 0.3978\n",
      "Epoch 7/10\n",
      "50000/50000 [==============================] - 90s - loss: 1.6317 - acc: 0.4090 - val_loss: 1.8224 - val_acc: 0.3600\n",
      "Epoch 8/10\n",
      "50000/50000 [==============================] - 92s - loss: 1.5981 - acc: 0.4237 - val_loss: 1.5759 - val_acc: 0.4298\n",
      "Epoch 9/10\n",
      "50000/50000 [==============================] - 89s - loss: 1.5692 - acc: 0.4333 - val_loss: 1.6039 - val_acc: 0.4224\n",
      "Epoch 10/10\n",
      "50000/50000 [==============================] - 88s - loss: 1.5447 - acc: 0.4442 - val_loss: 1.6379 - val_acc: 0.4270\n",
      "Test score: 1.63790180073\n",
      "Test accuracy: 0.427\n"
     ]
    }
   ],
   "source": [
    "model2 = Sequential()\n",
    "model2.add(Convolution2D(4, 3, 3,\n",
    "                    border_mode='valid',\n",
    "                    input_shape=(img_rows, img_cols,3)))\n",
    "model2.add(Activation('relu'))\n",
    "model2.add(Convolution2D(4, 3, 3,\n",
    "                    border_mode='valid',\n",
    "                    input_shape=(img_rows, img_cols,3)))\n",
    "model2.add(Activation('relu'))\n",
    "model2.add(MaxPooling2D(pool_size=(2, 2)))\n",
    "model2.add(Convolution2D(4, 3, 3,\n",
    "                    border_mode='valid',\n",
    "                    input_shape=(img_rows, img_cols,3)))\n",
    "model2.add(Activation('relu'))\n",
    "model2.add(Convolution2D(4, 3, 3,\n",
    "                    border_mode='valid',\n",
    "                    input_shape=(img_rows, img_cols,3)))\n",
    "model2.add(Activation('relu'))\n",
    "model2.add(Flatten())\n",
    "model2.add(Dense(128))\n",
    "model2.add(Activation('relu'))\n",
    "model2.add(Dense(nb_classes))\n",
    "model2.add(Activation('softmax'))\n",
    "\n",
    "model2.compile(loss='categorical_crossentropy',\n",
    "          optimizer='sgd',\n",
    "          metrics=['accuracy'])\n",
    "\n",
    "model2.fit(X_train, Y_train, batch_size=32, \n",
    "          nb_epoch=10,verbose=1,\n",
    "          validation_data=(X_test, Y_test))\n",
    "\n",
    "\n",
    "#Evaluating the model on the test data    \n",
    "score, accuracy = model2.evaluate(X_test, Y_test, verbose=0)\n",
    "print('Test score:', score)\n",
    "print('Test accuracy:', accuracy)"
   ]
  },
  {
   "cell_type": "markdown",
   "metadata": {},
   "source": [
    "# Model 3"
   ]
  },
  {
   "cell_type": "code",
   "execution_count": 9,
   "metadata": {
    "collapsed": false
   },
   "outputs": [
    {
     "name": "stdout",
     "output_type": "stream",
     "text": [
      "Train on 50000 samples, validate on 10000 samples\n",
      "Epoch 1/5\n",
      "50000/50000 [==============================] - 136s - loss: 2.0759 - acc: 0.2301 - val_loss: 1.8609 - val_acc: 0.3368\n",
      "Epoch 2/5\n",
      "50000/50000 [==============================] - 142s - loss: 1.7008 - acc: 0.3909 - val_loss: 1.6068 - val_acc: 0.4097\n",
      "Epoch 3/5\n",
      "50000/50000 [==============================] - 139s - loss: 1.5067 - acc: 0.4571 - val_loss: 1.4254 - val_acc: 0.4826\n",
      "Epoch 4/5\n",
      "50000/50000 [==============================] - 141s - loss: 1.3766 - acc: 0.5064 - val_loss: 1.3267 - val_acc: 0.5135\n",
      "Epoch 5/5\n",
      "50000/50000 [==============================] - 137s - loss: 1.2846 - acc: 0.5387 - val_loss: 1.2335 - val_acc: 0.5553\n",
      "Test score: 1.2335469038\n",
      "Test accuracy: 0.5553\n"
     ]
    }
   ],
   "source": [
    "model3 = Sequential()\n",
    "model3.add(Convolution2D(32, 3, 3,\n",
    "                    border_mode='valid',\n",
    "                    input_shape=(img_rows, img_cols,3)))\n",
    "model3.add(Activation('relu'))\n",
    "\n",
    "model3.add(MaxPooling2D(pool_size=(2, 2)))\n",
    "\n",
    "model3.add(Convolution2D(32, 3, 3,\n",
    "                    border_mode='valid',\n",
    "                    input_shape=(img_rows, img_cols,3)))\n",
    "model3.add(Activation('relu'))\n",
    "\n",
    "model3.add(Flatten())\n",
    "model3.add(Dense(128))\n",
    "model3.add(Activation('relu'))\n",
    "\n",
    "model3.add(Dense(128))\n",
    "model3.add(Activation('relu'))\n",
    "\n",
    "model3.add(Dense(nb_classes))\n",
    "model3.add(Activation('softmax'))\n",
    "\n",
    "model3.compile(loss='categorical_crossentropy',\n",
    "          optimizer='sgd',\n",
    "          metrics=['accuracy'])\n",
    "\n",
    "model3.fit(X_train, Y_train, batch_size=32, \n",
    "          nb_epoch=5,verbose=1,\n",
    "          validation_data=(X_test, Y_test))\n",
    "\n",
    "\n",
    "#Evaluating the model on the test data    \n",
    "score, accuracy = model3.evaluate(X_test, Y_test, verbose=0)\n",
    "print('Test score:', score)\n",
    "print('Test accuracy:', accuracy)"
   ]
  },
  {
   "cell_type": "markdown",
   "metadata": {},
   "source": [
    "# Ensemble"
   ]
  },
  {
   "cell_type": "code",
   "execution_count": 10,
   "metadata": {
    "collapsed": false
   },
   "outputs": [],
   "source": [
    "predictions1 = model1.predict(X_test)"
   ]
  },
  {
   "cell_type": "code",
   "execution_count": 11,
   "metadata": {
    "collapsed": true
   },
   "outputs": [],
   "source": [
    "predictions2 = model2.predict(X_test)"
   ]
  },
  {
   "cell_type": "code",
   "execution_count": 12,
   "metadata": {
    "collapsed": true
   },
   "outputs": [],
   "source": [
    "predictions3 = model3.predict(X_test)"
   ]
  },
  {
   "cell_type": "code",
   "execution_count": 31,
   "metadata": {
    "collapsed": false
   },
   "outputs": [
    {
     "data": {
      "text/plain": [
       "0.58150000000000002"
      ]
     },
     "execution_count": 31,
     "metadata": {},
     "output_type": "execute_result"
    }
   ],
   "source": [
    "predictions_avg = predictions1 +  predictions2 + predictions3 \n",
    "(predictions_avg.argmax(axis=1)==y_test.ravel()).sum()/y_test.shape[0]"
   ]
  },
  {
   "cell_type": "code",
   "execution_count": 32,
   "metadata": {
    "collapsed": false
   },
   "outputs": [
    {
     "data": {
      "text/plain": [
       "0.58199999999999996"
      ]
     },
     "execution_count": 32,
     "metadata": {},
     "output_type": "execute_result"
    }
   ],
   "source": [
    "predictions_avg = predictions1  + predictions3 \n",
    "(predictions_avg.argmax(axis=1)==y_test.ravel()).sum()/y_test.shape[0]"
   ]
  },
  {
   "cell_type": "code",
   "execution_count": 34,
   "metadata": {
    "collapsed": false
   },
   "outputs": [
    {
     "data": {
      "text/plain": [
       "0.58750000000000002"
      ]
     },
     "execution_count": 34,
     "metadata": {},
     "output_type": "execute_result"
    }
   ],
   "source": [
    "predictions_avg = 2*predictions1 +  predictions2 + 2*predictions3 \n",
    "(predictions_avg.argmax(axis=1)==y_test.ravel()).sum()/y_test.shape[0]"
   ]
  },
  {
   "cell_type": "code",
   "execution_count": null,
   "metadata": {
    "collapsed": true
   },
   "outputs": [],
   "source": []
  }
 ],
 "metadata": {
  "kernelspec": {
   "display_name": "Python 3",
   "language": "python",
   "name": "python3"
  },
  "language_info": {
   "codemirror_mode": {
    "name": "ipython",
    "version": 3
   },
   "file_extension": ".py",
   "mimetype": "text/x-python",
   "name": "python",
   "nbconvert_exporter": "python",
   "pygments_lexer": "ipython3",
   "version": "3.5.2"
  }
 },
 "nbformat": 4,
 "nbformat_minor": 0
}
