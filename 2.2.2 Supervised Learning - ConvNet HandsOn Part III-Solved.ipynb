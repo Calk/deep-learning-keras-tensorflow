{
 "cells": [
  {
   "cell_type": "code",
   "execution_count": 16,
   "metadata": {
    "collapsed": false
   },
   "outputs": [],
   "source": [
    "import numpy as np\n",
    "from keras.datasets import cifar10\n",
    "import matplotlib.pyplot as plt\n",
    "%matplotlib inline"
   ]
  },
  {
   "cell_type": "code",
   "execution_count": 17,
   "metadata": {
    "collapsed": false
   },
   "outputs": [],
   "source": [
    "(X_train, y_train), (X_test, y_test) = cifar10.load_data()"
   ]
  },
  {
   "cell_type": "code",
   "execution_count": 18,
   "metadata": {
    "collapsed": true
   },
   "outputs": [],
   "source": [
    "# exercise - implement convnet on Cifar10\n",
    "from keras.models import Sequential\n",
    "from keras.layers.core import Dense, Dropout, Activation, Flatten\n",
    "from keras.layers.convolutional import Convolution2D\n",
    "from keras.layers.pooling import MaxPooling2D\n",
    "from keras.utils import np_utils\n",
    "from keras.optimizers import SGD"
   ]
  },
  {
   "cell_type": "code",
   "execution_count": 19,
   "metadata": {
    "collapsed": true
   },
   "outputs": [],
   "source": [
    "import tensorflow as tf\n",
    "tf.python.control_flow_ops = tf"
   ]
  },
  {
   "cell_type": "code",
   "execution_count": 20,
   "metadata": {
    "collapsed": false
   },
   "outputs": [],
   "source": [
    "img_rows, img_cols = 32, 32\n",
    "nb_classes = 10\n",
    "\n",
    "X_train = X_train.reshape(X_train.shape[0], img_rows, img_cols,3)\n",
    "X_test = X_test.reshape(X_test.shape[0], img_rows, img_cols,3)\n",
    "\n",
    "X_train = X_train.astype('float32')\n",
    "X_test = X_test.astype('float32')\n",
    "\n",
    "X_train /= 255\n",
    "X_test /= 255\n",
    "\n",
    "Y_train = np_utils.to_categorical(y_train,nb_classes)\n",
    "Y_test = np_utils.to_categorical(y_test,nb_classes)"
   ]
  },
  {
   "cell_type": "code",
   "execution_count": 21,
   "metadata": {
    "collapsed": false,
    "scrolled": true
   },
   "outputs": [
    {
     "name": "stdout",
     "output_type": "stream",
     "text": [
      "(50000, 32, 32, 3) (50000, 10) (10000, 32, 32, 3) (10000, 10)\n"
     ]
    }
   ],
   "source": [
    "print(X_train.shape, Y_train.shape, X_test.shape, Y_test.shape)"
   ]
  },
  {
   "cell_type": "code",
   "execution_count": 7,
   "metadata": {
    "collapsed": false
   },
   "outputs": [
    {
     "name": "stdout",
     "output_type": "stream",
     "text": [
      "Train on 50000 samples, validate on 10000 samples\n",
      "Epoch 1/50\n",
      "50000/50000 [==============================] - 78s - loss: 2.2351 - acc: 0.1538 - val_loss: 2.0473 - val_acc: 0.2750\n",
      "Epoch 2/50\n",
      "50000/50000 [==============================] - 112s - loss: 1.9796 - acc: 0.2623 - val_loss: 1.7973 - val_acc: 0.3444\n",
      "Epoch 3/50\n",
      "50000/50000 [==============================] - 109s - loss: 1.8344 - acc: 0.3207 - val_loss: 1.6724 - val_acc: 0.3966\n",
      "Epoch 4/50\n",
      "50000/50000 [==============================] - 120s - loss: 1.7436 - acc: 0.3588 - val_loss: 1.5765 - val_acc: 0.4391\n",
      "Epoch 5/50\n",
      "50000/50000 [==============================] - 113s - loss: 1.6669 - acc: 0.3935 - val_loss: 1.4970 - val_acc: 0.4588\n",
      "Epoch 6/50\n",
      "50000/50000 [==============================] - 117s - loss: 1.6087 - acc: 0.4192 - val_loss: 1.5302 - val_acc: 0.4512\n",
      "Epoch 7/50\n",
      "50000/50000 [==============================] - 108s - loss: 1.5656 - acc: 0.4357 - val_loss: 1.4159 - val_acc: 0.4983\n",
      "Epoch 8/50\n",
      "50000/50000 [==============================] - 110s - loss: 1.5246 - acc: 0.4547 - val_loss: 1.3563 - val_acc: 0.5168\n",
      "Epoch 9/50\n",
      "50000/50000 [==============================] - 113s - loss: 1.4890 - acc: 0.4682 - val_loss: 1.3209 - val_acc: 0.5353\n",
      "Epoch 10/50\n",
      "50000/50000 [==============================] - 119s - loss: 1.4529 - acc: 0.4857 - val_loss: 1.2862 - val_acc: 0.5441\n",
      "Epoch 11/50\n",
      "50000/50000 [==============================] - 124s - loss: 1.4235 - acc: 0.4967 - val_loss: 1.2627 - val_acc: 0.5590\n",
      "Epoch 12/50\n",
      "50000/50000 [==============================] - 113s - loss: 1.3899 - acc: 0.5106 - val_loss: 1.2417 - val_acc: 0.5617\n",
      "Epoch 13/50\n",
      "50000/50000 [==============================] - 112s - loss: 1.3577 - acc: 0.5216 - val_loss: 1.2131 - val_acc: 0.5705\n",
      "Epoch 14/50\n",
      "50000/50000 [==============================] - 110s - loss: 1.3352 - acc: 0.5310 - val_loss: 1.2217 - val_acc: 0.5655\n",
      "Epoch 15/50\n",
      "50000/50000 [==============================] - 103s - loss: 1.3063 - acc: 0.5425 - val_loss: 1.1605 - val_acc: 0.5942\n",
      "Epoch 16/50\n",
      "50000/50000 [==============================] - 57s - loss: 1.2851 - acc: 0.5506 - val_loss: 1.1800 - val_acc: 0.5810\n",
      "Epoch 17/50\n",
      "50000/50000 [==============================] - 88s - loss: 1.2606 - acc: 0.5597 - val_loss: 1.1583 - val_acc: 0.5933\n",
      "Epoch 18/50\n",
      "50000/50000 [==============================] - 107s - loss: 1.2407 - acc: 0.5667 - val_loss: 1.1228 - val_acc: 0.6085\n",
      "Epoch 19/50\n",
      "50000/50000 [==============================] - 95s - loss: 1.2222 - acc: 0.5732 - val_loss: 1.1886 - val_acc: 0.5914\n",
      "Epoch 20/50\n",
      "50000/50000 [==============================] - 105s - loss: 1.2015 - acc: 0.5825 - val_loss: 1.0802 - val_acc: 0.6233\n",
      "Epoch 21/50\n",
      "50000/50000 [==============================] - 152s - loss: 1.1840 - acc: 0.5892 - val_loss: 1.1124 - val_acc: 0.6087\n",
      "Epoch 22/50\n",
      "50000/50000 [==============================] - 157s - loss: 1.1682 - acc: 0.5934 - val_loss: 1.0778 - val_acc: 0.6231\n",
      "Epoch 23/50\n",
      "50000/50000 [==============================] - 157s - loss: 1.1484 - acc: 0.6032 - val_loss: 1.0595 - val_acc: 0.6313\n",
      "Epoch 24/50\n",
      "50000/50000 [==============================] - 158s - loss: 1.1338 - acc: 0.6083 - val_loss: 1.0574 - val_acc: 0.6317\n",
      "Epoch 25/50\n",
      "50000/50000 [==============================] - 168s - loss: 1.1114 - acc: 0.6159 - val_loss: 1.0476 - val_acc: 0.6378\n",
      "Epoch 26/50\n",
      "50000/50000 [==============================] - 154s - loss: 1.1018 - acc: 0.6202 - val_loss: 1.0342 - val_acc: 0.6458\n",
      "Epoch 27/50\n",
      "50000/50000 [==============================] - 160s - loss: 1.0866 - acc: 0.6267 - val_loss: 1.0634 - val_acc: 0.6325\n",
      "Epoch 28/50\n",
      "50000/50000 [==============================] - 161s - loss: 1.0712 - acc: 0.6299 - val_loss: 1.0165 - val_acc: 0.6436\n",
      "Epoch 29/50\n",
      "50000/50000 [==============================] - 159s - loss: 1.0561 - acc: 0.6370 - val_loss: 1.0034 - val_acc: 0.6529\n",
      "Epoch 30/50\n",
      "50000/50000 [==============================] - 163s - loss: 1.0447 - acc: 0.6408 - val_loss: 0.9976 - val_acc: 0.6492\n",
      "Epoch 31/50\n",
      "50000/50000 [==============================] - 175s - loss: 1.0311 - acc: 0.6411 - val_loss: 0.9956 - val_acc: 0.6580\n",
      "Epoch 32/50\n",
      "50000/50000 [==============================] - 169s - loss: 1.0197 - acc: 0.6470 - val_loss: 0.9890 - val_acc: 0.6557\n",
      "Epoch 33/50\n",
      "50000/50000 [==============================] - 151s - loss: 1.0048 - acc: 0.6545 - val_loss: 1.0058 - val_acc: 0.6541\n",
      "Epoch 34/50\n",
      "50000/50000 [==============================] - 152s - loss: 0.9885 - acc: 0.6600 - val_loss: 0.9801 - val_acc: 0.6588\n",
      "Epoch 35/50\n",
      "50000/50000 [==============================] - 163s - loss: 0.9792 - acc: 0.6623 - val_loss: 1.0410 - val_acc: 0.6429\n",
      "Epoch 36/50\n",
      "50000/50000 [==============================] - 148s - loss: 0.9685 - acc: 0.6660 - val_loss: 0.9932 - val_acc: 0.6566\n",
      "Epoch 37/50\n",
      "50000/50000 [==============================] - 145s - loss: 0.9553 - acc: 0.6708 - val_loss: 1.0080 - val_acc: 0.6483\n",
      "Epoch 38/50\n",
      "50000/50000 [==============================] - 143s - loss: 0.9460 - acc: 0.6758 - val_loss: 0.9957 - val_acc: 0.6554\n",
      "Epoch 39/50\n",
      "50000/50000 [==============================] - 153s - loss: 0.9329 - acc: 0.6767 - val_loss: 0.9656 - val_acc: 0.6689\n",
      "Epoch 40/50\n",
      "50000/50000 [==============================] - 132s - loss: 0.9212 - acc: 0.6826 - val_loss: 0.9577 - val_acc: 0.6707\n",
      "Epoch 41/50\n",
      "50000/50000 [==============================] - 117s - loss: 0.9111 - acc: 0.6881 - val_loss: 0.9532 - val_acc: 0.6737\n",
      "Epoch 42/50\n",
      "50000/50000 [==============================] - 108s - loss: 0.9027 - acc: 0.6895 - val_loss: 1.0314 - val_acc: 0.6490\n",
      "Epoch 43/50\n",
      "50000/50000 [==============================] - 108s - loss: 0.8896 - acc: 0.6944 - val_loss: 0.9722 - val_acc: 0.6669\n",
      "Epoch 44/50\n",
      "50000/50000 [==============================] - 107s - loss: 0.8856 - acc: 0.6950 - val_loss: 0.9572 - val_acc: 0.6719\n",
      "Epoch 45/50\n",
      "50000/50000 [==============================] - 112s - loss: 0.8666 - acc: 0.6994 - val_loss: 0.9648 - val_acc: 0.6668\n",
      "Epoch 46/50\n",
      "50000/50000 [==============================] - 110s - loss: 0.8608 - acc: 0.7038 - val_loss: 0.9951 - val_acc: 0.6624\n",
      "Epoch 47/50\n",
      "50000/50000 [==============================] - 113s - loss: 0.8497 - acc: 0.7064 - val_loss: 0.9693 - val_acc: 0.6695\n",
      "Epoch 48/50\n",
      "50000/50000 [==============================] - 111s - loss: 0.8395 - acc: 0.7083 - val_loss: 1.0894 - val_acc: 0.6411\n",
      "Epoch 49/50\n",
      "50000/50000 [==============================] - 110s - loss: 0.8326 - acc: 0.7140 - val_loss: 0.9426 - val_acc: 0.6794\n",
      "Epoch 50/50\n",
      "50000/50000 [==============================] - 113s - loss: 0.8264 - acc: 0.7136 - val_loss: 1.0201 - val_acc: 0.6561\n",
      "Test score: 1.02008789883\n",
      "Test accuracy: 0.6561\n"
     ]
    }
   ],
   "source": [
    "model = Sequential()\n",
    "model.add(Convolution2D(32, 3, 3,\n",
    "                    border_mode='valid',\n",
    "                    input_shape=(img_rows, img_cols,3)))\n",
    "model.add(Activation('relu'))\n",
    "\n",
    "model.add(MaxPooling2D(pool_size=(2, 2)))\n",
    "\n",
    "model.add(Convolution2D(32, 3, 3))\n",
    "model.add(Activation('relu'))\n",
    "\n",
    "model.add(Dropout(0.25))\n",
    "\n",
    "model.add(Flatten())\n",
    "model.add(Dense(128))\n",
    "model.add(Activation('relu'))\n",
    "model.add(Dropout(0.5))\n",
    "\n",
    "model.add(Dense(128))\n",
    "model.add(Activation('relu'))\n",
    "model.add(Dropout(0.5))\n",
    "\n",
    "\n",
    "model.add(Dense(nb_classes))\n",
    "model.add(Activation('softmax'))\n",
    "\n",
    "model.compile(loss='categorical_crossentropy',\n",
    "          optimizer='sgd',\n",
    "          metrics=['accuracy'])\n",
    "\n",
    "model.fit(X_train, Y_train, batch_size=32, \n",
    "          nb_epoch=50,verbose=1,\n",
    "          validation_data=(X_test, Y_test))\n",
    "\n",
    "\n",
    "#Evaluating the model on the test data    \n",
    "score, accuracy = model.evaluate(X_test, Y_test, verbose=0)\n",
    "print('Test score:', score)\n",
    "print('Test accuracy:', accuracy)"
   ]
  },
  {
   "cell_type": "code",
   "execution_count": null,
   "metadata": {
    "collapsed": true
   },
   "outputs": [],
   "source": [
    "#NOW with data augmentation"
   ]
  },
  {
   "cell_type": "code",
   "execution_count": 8,
   "metadata": {
    "collapsed": false
   },
   "outputs": [
    {
     "name": "stdout",
     "output_type": "stream",
     "text": [
      "Using real-time data augmentation.\n",
      "Epoch 1/10\n",
      "50000/50000 [==============================] - 117s - loss: 2.2848 - acc: 0.1275 - val_loss: 2.1771 - val_acc: 0.2340\n",
      "Epoch 2/10\n",
      "50000/50000 [==============================] - 122s - loss: 2.1645 - acc: 0.1861 - val_loss: 2.0066 - val_acc: 0.2802\n",
      "Epoch 3/10\n",
      "50000/50000 [==============================] - 131s - loss: 2.0551 - acc: 0.2282 - val_loss: 1.8962 - val_acc: 0.3155\n",
      "Epoch 4/10\n",
      "50000/50000 [==============================] - 120s - loss: 1.9576 - acc: 0.2613 - val_loss: 1.8121 - val_acc: 0.3313\n",
      "Epoch 5/10\n",
      "50000/50000 [==============================] - 113s - loss: 1.8914 - acc: 0.2857 - val_loss: 1.7330 - val_acc: 0.3668\n",
      "Epoch 6/10\n",
      "50000/50000 [==============================] - 147s - loss: 1.8493 - acc: 0.3066 - val_loss: 1.7346 - val_acc: 0.3698\n",
      "Epoch 7/10\n",
      "50000/50000 [==============================] - 122s - loss: 1.8245 - acc: 0.3206 - val_loss: 1.6595 - val_acc: 0.4039\n",
      "Epoch 8/10\n",
      "50000/50000 [==============================] - 127s - loss: 1.7991 - acc: 0.3334 - val_loss: 1.7279 - val_acc: 0.3686\n",
      "Epoch 9/10\n",
      "50000/50000 [==============================] - 144s - loss: 1.7774 - acc: 0.3426 - val_loss: 1.6024 - val_acc: 0.4203\n",
      "Epoch 10/10\n",
      "50000/50000 [==============================] - 143s - loss: 1.7582 - acc: 0.3483 - val_loss: 1.6032 - val_acc: 0.4208\n"
     ]
    },
    {
     "data": {
      "text/plain": [
       "<keras.callbacks.History at 0x7f62c8b1ab00>"
      ]
     },
     "execution_count": 8,
     "metadata": {},
     "output_type": "execute_result"
    }
   ],
   "source": [
    "from keras.preprocessing.image import ImageDataGenerator\n",
    "\n",
    "\n",
    "model = Sequential()\n",
    "model.add(Convolution2D(32, 3, 3,\n",
    "                    border_mode='valid',\n",
    "                    input_shape=(img_rows, img_cols,3)))\n",
    "model.add(Activation('relu'))\n",
    "\n",
    "model.add(MaxPooling2D(pool_size=(2, 2)))\n",
    "\n",
    "model.add(Convolution2D(32, 3, 3))\n",
    "model.add(Activation('relu'))\n",
    "\n",
    "model.add(Dropout(0.25))\n",
    "\n",
    "model.add(Flatten())\n",
    "model.add(Dense(128))\n",
    "model.add(Activation('relu'))\n",
    "model.add(Dropout(0.5))\n",
    "\n",
    "model.add(Dense(128))\n",
    "model.add(Activation('relu'))\n",
    "model.add(Dropout(0.5))\n",
    "\n",
    "\n",
    "model.add(Dense(nb_classes))\n",
    "model.add(Activation('softmax'))\n",
    "\n",
    "model.compile(loss='categorical_crossentropy',\n",
    "          optimizer='sgd',\n",
    "          metrics=['accuracy'])\n",
    "\n",
    "\n",
    "print('Using real-time data augmentation.')\n",
    "# This will do preprocessing and realtime data augmentation:\n",
    "datagen = ImageDataGenerator(\n",
    "    width_shift_range=0.1,  # randomly shift images horizontally (fraction of total width)\n",
    "    height_shift_range=0.1,  # randomly shift images vertically (fraction of total height)\n",
    "    horizontal_flip=True,  # randomly flip images\n",
    "    vertical_flip=False)  # randomly flip images\n",
    "\n",
    "# Compute quantities required for featurewise normalization\n",
    "# (std, mean, and principal components if ZCA whitening is applied).\n",
    "datagen.fit(X_train)\n",
    "\n",
    "# Fit the model on the batches generated by datagen.flow().\n",
    "model.fit_generator(datagen.flow(X_train, Y_train,\n",
    "                    batch_size=32),\n",
    "                    samples_per_epoch=X_train.shape[0],\n",
    "                    nb_epoch=10,verbose=1,\n",
    "                    validation_data=(X_test, Y_test))"
   ]
  },
  {
   "cell_type": "code",
   "execution_count": null,
   "metadata": {
    "collapsed": true
   },
   "outputs": [],
   "source": []
  }
 ],
 "metadata": {
  "kernelspec": {
   "display_name": "Python 3",
   "language": "python",
   "name": "python3"
  },
  "language_info": {
   "codemirror_mode": {
    "name": "ipython",
    "version": 3
   },
   "file_extension": ".py",
   "mimetype": "text/x-python",
   "name": "python",
   "nbconvert_exporter": "python",
   "pygments_lexer": "ipython3",
   "version": "3.5.2"
  }
 },
 "nbformat": 4,
 "nbformat_minor": 0
}
