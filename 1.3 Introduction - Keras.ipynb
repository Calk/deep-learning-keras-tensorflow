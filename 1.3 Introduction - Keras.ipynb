{
 "cells": [
  {
   "cell_type": "code",
   "execution_count": 1,
   "metadata": {
    "collapsed": true
   },
   "outputs": [],
   "source": [
    "%matplotlib inline"
   ]
  },
  {
   "cell_type": "code",
   "execution_count": 2,
   "metadata": {
    "collapsed": false
   },
   "outputs": [
    {
     "name": "stderr",
     "output_type": "stream",
     "text": [
      "Using TensorFlow backend.\n"
     ]
    }
   ],
   "source": [
    "import numpy as np\n",
    "import pandas as pd\n",
    "import theano\n",
    "import theano.tensor as T\n",
    "import matplotlib.pyplot as plt\n",
    "import keras \n",
    "from sklearn.preprocessing import StandardScaler\n",
    "from sklearn.preprocessing import LabelEncoder \n",
    "from keras.utils import np_utils\n",
    "from sklearn.cross_validation import train_test_split\n",
    "from keras.callbacks import EarlyStopping, ModelCheckpoint\n",
    "from keras.models import Sequential\n",
    "from keras.layers import Dense, Activation"
   ]
  },
  {
   "cell_type": "markdown",
   "metadata": {},
   "source": [
    "For this section we will use the Kaggle otto challenge.\n",
    "If you want to follow, Get the data from Kaggle: https://www.kaggle.com/c/otto-group-product-classification-challenge/data"
   ]
  },
  {
   "cell_type": "markdown",
   "metadata": {},
   "source": [
    "#### About the data"
   ]
  },
  {
   "cell_type": "markdown",
   "metadata": {},
   "source": [
    "The Otto Group is one of the world’s biggest e-commerce companies, A consistent analysis of the performance of products is crucial. However, due to diverse global infrastructure, many identical products get classified differently.\n",
    "For this competition, we have provided a dataset with 93 features for more than 200,000 products. The objective is to build a predictive model which is able to distinguish between our main product categories. \n",
    "Each row corresponds to a single product. There are a total of 93 numerical features, which represent counts of different events. All features have been obfuscated and will not be defined any further.\n",
    "\n",
    "https://www.kaggle.com/c/otto-group-product-classification-challenge/data"
   ]
  },
  {
   "cell_type": "code",
   "execution_count": 3,
   "metadata": {
    "collapsed": true
   },
   "outputs": [],
   "source": [
    "def load_data(path, train=True):\n",
    "    \"\"\"Load data from a CSV File\n",
    "    \n",
    "    Parameters\n",
    "    ----------\n",
    "    path: str\n",
    "        The path to the CSV file\n",
    "        \n",
    "    train: bool (default True)\n",
    "        Decide whether or not data are *training data*.\n",
    "        If True, some random shuffling is applied.\n",
    "        \n",
    "    Return\n",
    "    ------\n",
    "    X: numpy.ndarray \n",
    "        The data as a multi dimensional array of floats\n",
    "    ids: numpy.ndarray\n",
    "        A vector of ids for each sample\n",
    "    \"\"\"\n",
    "    df = pd.read_csv(path)\n",
    "    X = df.values.copy()\n",
    "    if train:\n",
    "        np.random.shuffle(X)  # https://youtu.be/uyUXoap67N8\n",
    "        X, labels = X[:, 1:-1].astype(np.float32), X[:, -1]\n",
    "        return X, labels\n",
    "    else:\n",
    "        X, ids, labels = X[:, 1:].astype(np.float32), X[:, 0].astype(str),  X[:, -1]\n",
    "        return X, ids, labels"
   ]
  },
  {
   "cell_type": "code",
   "execution_count": 4,
   "metadata": {
    "collapsed": false
   },
   "outputs": [],
   "source": [
    "def preprocess_data(X, scaler=None):\n",
    "    \"\"\"Preprocess input data by standardise features \n",
    "    by removing the mean and scaling to unit variance\"\"\"\n",
    "    if not scaler:\n",
    "        scaler = StandardScaler()\n",
    "        scaler.fit(X)\n",
    "    X = scaler.transform(X)\n",
    "    return X, scaler\n",
    "\n",
    "\n",
    "def preprocess_labels(labels, encoder=None, categorical=True):\n",
    "    \"\"\"Encode labels with values among 0 and `n-classes-1`\"\"\"\n",
    "    if not encoder:\n",
    "        encoder = LabelEncoder()\n",
    "        encoder.fit(labels)\n",
    "    y = encoder.transform(labels).astype(np.int32)\n",
    "    if categorical:\n",
    "        y = np_utils.to_categorical(y)\n",
    "    return y, encoder"
   ]
  },
  {
   "cell_type": "code",
   "execution_count": 5,
   "metadata": {
    "collapsed": false
   },
   "outputs": [
    {
     "name": "stdout",
     "output_type": "stream",
     "text": [
      "Loading data...\n",
      "[[  0.   0.   0.   0.   0.   0.   0.   0.   0.   3.   0.   0.   0.   3.\n",
      "    2.   1.   0.   0.   0.   0.   0.   0.   0.   5.   3.   1.   1.   0.\n",
      "    0.   0.   0.   0.   1.   0.   0.   1.   0.   1.   0.   1.   0.   0.\n",
      "    0.   0.   0.   0.   0.   0.   0.   0.   0.   0.   0.   0.   0.   0.\n",
      "    0.   0.   0.   0.   0.   0.   0.   3.   0.   0.   0.   0.   1.   1.\n",
      "    0.   1.   0.   0.   0.   0.   0.   0.   0.   0.   0.   0.   0.   0.\n",
      "    0.  11.   1.  20.   0.   0.   0.   0.   0.]]\n",
      "9 classes\n",
      "93 dims\n"
     ]
    }
   ],
   "source": [
    "print(\"Loading data...\")\n",
    "X, labels = load_data('/home/ubuntu/deep-learning-keras-tensorflow/data/train.csv', train=True)\n",
    "X, scaler = preprocess_data(X)\n",
    "Y, encoder = preprocess_labels(labels)\n",
    "\n",
    "\n",
    "X_test, ids, test_labels = load_data('/home/ubuntu/deep-learning-keras-tensorflow/data/test.csv', train=False)\n",
    "X_test, ids ,test_labels = X_test[:1000], ids[:1000], test_labels[:1000]\n",
    "\n",
    "#Plotting the data\n",
    "print(X_test[:1])\n",
    "\n",
    "X_test, _ = preprocess_data(X_test, scaler)\n",
    "\n",
    "\n",
    "nb_classes = Y.shape[1]\n",
    "print(nb_classes, 'classes')\n",
    "\n",
    "dims = X.shape[1]\n",
    "print(dims, 'dims')"
   ]
  },
  {
   "cell_type": "markdown",
   "metadata": {},
   "source": [
    "Now lets create and train a logistic regression model."
   ]
  },
  {
   "cell_type": "markdown",
   "metadata": {},
   "source": [
    "---"
   ]
  },
  {
   "cell_type": "markdown",
   "metadata": {},
   "source": [
    "# Keras\n",
    "\n",
    "## Deep Learning library for Theano and TensorFlow"
   ]
  },
  {
   "cell_type": "markdown",
   "metadata": {},
   "source": [
    "Keras is a minimalist, highly modular neural networks library, written in Python and capable of running on top of either TensorFlow or Theano. It was developed with a focus on enabling fast experimentation. Being able to go from idea to result with the least possible delay is key to doing good research.\n",
    "ref: https://keras.io/"
   ]
  },
  {
   "cell_type": "markdown",
   "metadata": {},
   "source": [
    "## Why this name, Keras?\n",
    "\n",
    "Keras (κέρας) means _horn_ in Greek. It is a reference to a literary image from ancient Greek and Latin literature, first found in the _Odyssey_, where dream spirits (_Oneiroi_, singular _Oneiros_) are divided between those who deceive men with false visions, who arrive to Earth through a gate of ivory, and those who announce a future that will come to pass, who arrive through a gate of horn. It's a play on the words κέρας (horn) / κραίνω (fulfill), and ἐλέφας (ivory) / ἐλεφαίρομαι (deceive).\n",
    "\n",
    "Keras was initially developed as part of the research effort of project ONEIROS (Open-ended Neuro-Electronic Intelligent Robot Operating System).\n",
    "\n",
    ">_\"Oneiroi are beyond our unravelling --who can be sure what tale they tell? Not all that men look for comes to pass. Two gates there are that give passage to fleeting Oneiroi; one is made of horn, one of ivory. The Oneiroi that pass through sawn ivory are deceitful, bearing a message that will not be fulfilled; those that come out through polished horn have truth behind them, to be accomplished for men who see them.\"_ Homer, Odyssey 19. 562 ff (Shewring translation)."
   ]
  },
  {
   "cell_type": "markdown",
   "metadata": {},
   "source": [
    "## Hands On - Keras Logistic Regression\n"
   ]
  },
  {
   "cell_type": "code",
   "execution_count": 6,
   "metadata": {
    "collapsed": false
   },
   "outputs": [
    {
     "name": "stdout",
     "output_type": "stream",
     "text": [
      "93 dims\n",
      "Building model...\n",
      "9 classes\n",
      "Epoch 1/10\n",
      "61878/61878 [==============================] - 2s - loss: 1.0591     \n",
      "Epoch 2/10\n",
      "61878/61878 [==============================] - 1s - loss: 0.7709     \n",
      "Epoch 3/10\n",
      "61878/61878 [==============================] - 1s - loss: 0.7281     \n",
      "Epoch 4/10\n",
      "61878/61878 [==============================] - 1s - loss: 0.7068     \n",
      "Epoch 5/10\n",
      "61878/61878 [==============================] - 1s - loss: 0.6937     \n",
      "Epoch 6/10\n",
      "61878/61878 [==============================] - 2s - loss: 0.6848     \n",
      "Epoch 7/10\n",
      "61878/61878 [==============================] - 1s - loss: 0.6781     \n",
      "Epoch 8/10\n",
      "61878/61878 [==============================] - 1s - loss: 0.6730     \n",
      "Epoch 9/10\n",
      "61878/61878 [==============================] - 2s - loss: 0.6689     \n",
      "Epoch 10/10\n",
      "61878/61878 [==============================] - 2s - loss: 0.6654     \n"
     ]
    },
    {
     "data": {
      "text/plain": [
       "<keras.callbacks.History at 0x7effdc6aff60>"
      ]
     },
     "execution_count": 6,
     "metadata": {},
     "output_type": "execute_result"
    }
   ],
   "source": [
    "dims = X.shape[1]\n",
    "print(dims, 'dims')\n",
    "print(\"Building model...\")\n",
    "\n",
    "nb_classes = Y.shape[1]\n",
    "print(nb_classes, 'classes')\n",
    "\n",
    "model = Sequential()\n",
    "model.add(Dense(nb_classes, input_shape=(dims,)))\n",
    "model.add(Activation('softmax'))\n",
    "model.compile(optimizer='sgd', loss='categorical_crossentropy')\n",
    "model.fit(X, Y)"
   ]
  },
  {
   "cell_type": "code",
   "execution_count": 7,
   "metadata": {
    "collapsed": false
   },
   "outputs": [],
   "source": [
    "train_predictions = model.predict(X).argmax(axis=1)"
   ]
  },
  {
   "cell_type": "code",
   "execution_count": 8,
   "metadata": {
    "collapsed": false
   },
   "outputs": [
    {
     "name": "stdout",
     "output_type": "stream",
     "text": [
      "train accuracy is 0.7568279517760755\n"
     ]
    }
   ],
   "source": [
    "print('train accuracy is {0}'.format(sum(Y.argmax(axis=1)==train_predictions)/train_predictions.shape[0]))"
   ]
  },
  {
   "cell_type": "markdown",
   "metadata": {},
   "source": [
    "Simplicity is pretty impressive right? :)"
   ]
  },
  {
   "cell_type": "markdown",
   "metadata": {},
   "source": [
    "Now lets understand:\n",
    "<pre>The core data structure of Keras is a <b>model</b>, a way to organize layers. The main type of model is the <b>Sequential</b> model, a linear stack of layers.</pre>\n"
   ]
  },
  {
   "cell_type": "markdown",
   "metadata": {},
   "source": [
    "What we did here is stacking a Fully Connected (<b>Dense</b>) layer of trainable weights from the input to the output and an <b>Activation</b> layer on top of the weights layer."
   ]
  },
  {
   "cell_type": "markdown",
   "metadata": {},
   "source": [
    "##### Dense"
   ]
  },
  {
   "cell_type": "markdown",
   "metadata": {
    "collapsed": true
   },
   "source": [
    "```python\n",
    "from keras.layers.core import Dense\n",
    "\n",
    "Dense(output_dim, init='glorot_uniform', activation='linear', \n",
    "      weights=None, W_regularizer=None, b_regularizer=None,\n",
    "      activity_regularizer=None, W_constraint=None, \n",
    "      b_constraint=None, bias=True, input_dim=None)\n",
    "```"
   ]
  },
  {
   "cell_type": "markdown",
   "metadata": {},
   "source": [
    "##### Activation"
   ]
  },
  {
   "cell_type": "markdown",
   "metadata": {
    "collapsed": true
   },
   "source": [
    "```python\n",
    "from keras.layers.core import Activation\n",
    "\n",
    "Activation(activation)\n",
    "```"
   ]
  },
  {
   "cell_type": "markdown",
   "metadata": {},
   "source": [
    "##### Optimizer"
   ]
  },
  {
   "cell_type": "markdown",
   "metadata": {},
   "source": [
    "If you need to, you can further configure your optimizer. A core principle of Keras is to make things reasonably simple, while allowing the user to be fully in control when they need to (the ultimate control being the easy extensibility of the source code).\n",
    "Here we used <b>SGD</b> (stochastic gradient descent) as an optimization algorithm for our trainable weights.  "
   ]
  },
  {
   "cell_type": "markdown",
   "metadata": {},
   "source": [
    "\"Data Sciencing\" this example a little bit more\n",
    "====="
   ]
  },
  {
   "cell_type": "markdown",
   "metadata": {},
   "source": [
    "What we did here is nice, however in the real world it is not useable because of overfitting.\n",
    "Lets try and solve it with cross validation."
   ]
  },
  {
   "cell_type": "markdown",
   "metadata": {},
   "source": [
    "##### Overfitting"
   ]
  },
  {
   "cell_type": "markdown",
   "metadata": {},
   "source": [
    "In overfitting, a statistical model describes random error or noise instead of the underlying relationship. Overfitting occurs when a model is excessively complex, such as having too many parameters relative to the number of observations. \n",
    "\n",
    "A model that has been overfit has poor predictive performance, as it overreacts to minor fluctuations in the training data."
   ]
  },
  {
   "cell_type": "markdown",
   "metadata": {
    "collapsed": false
   },
   "source": [
    "\n",
    "<img src =\"imgs/overfitting.png\">"
   ]
  },
  {
   "cell_type": "markdown",
   "metadata": {},
   "source": [
    "<pre>To avoid overfitting, we will first split out data to training set and test set and test out model on the test set.\n",
    "Next: we will use two of keras's callbacks <b>EarlyStopping</b> and <b>ModelCheckpoint</b></pre>"
   ]
  },
  {
   "cell_type": "code",
   "execution_count": 9,
   "metadata": {
    "collapsed": false
   },
   "outputs": [
    {
     "name": "stdout",
     "output_type": "stream",
     "text": [
      "Train on 52596 samples, validate on 9282 samples\n",
      "Epoch 1/20\n",
      "52596/52596 [==============================] - 0s - loss: 1.6428 - val_loss: 1.1692\n",
      "Epoch 2/20\n",
      "52596/52596 [==============================] - 0s - loss: 1.0329 - val_loss: 0.9731\n",
      "Epoch 3/20\n",
      "52596/52596 [==============================] - 0s - loss: 0.9108 - val_loss: 0.8973\n",
      "Epoch 4/20\n",
      "52596/52596 [==============================] - 0s - loss: 0.8537 - val_loss: 0.8548\n",
      "Epoch 5/20\n",
      "52596/52596 [==============================] - 0s - loss: 0.8191 - val_loss: 0.8267\n",
      "Epoch 6/20\n",
      "52596/52596 [==============================] - 0s - loss: 0.7955 - val_loss: 0.8066\n",
      "Epoch 7/20\n",
      "52596/52596 [==============================] - 0s - loss: 0.7780 - val_loss: 0.7910\n",
      "Epoch 8/20\n",
      "52596/52596 [==============================] - 0s - loss: 0.7645 - val_loss: 0.7787\n",
      "Epoch 9/20\n",
      "52596/52596 [==============================] - 0s - loss: 0.7536 - val_loss: 0.7686\n",
      "Epoch 10/20\n",
      "52596/52596 [==============================] - 0s - loss: 0.7445 - val_loss: 0.7605\n",
      "Epoch 11/20\n",
      "52596/52596 [==============================] - 0s - loss: 0.7368 - val_loss: 0.7531\n",
      "Epoch 12/20\n",
      "52596/52596 [==============================] - 0s - loss: 0.7301 - val_loss: 0.7470\n",
      "Epoch 13/20\n",
      "52596/52596 [==============================] - 0s - loss: 0.7243 - val_loss: 0.7412\n",
      "Epoch 14/20\n",
      "52596/52596 [==============================] - 0s - loss: 0.7192 - val_loss: 0.7363\n",
      "Epoch 15/20\n",
      "52596/52596 [==============================] - 0s - loss: 0.7146 - val_loss: 0.7320\n",
      "Epoch 16/20\n",
      "52596/52596 [==============================] - 0s - loss: 0.7104 - val_loss: 0.7280\n",
      "Epoch 17/20\n",
      "52596/52596 [==============================] - 0s - loss: 0.7067 - val_loss: 0.7243\n",
      "Epoch 18/20\n",
      "52596/52596 [==============================] - 0s - loss: 0.7032 - val_loss: 0.7212\n",
      "Epoch 19/20\n",
      "52596/52596 [==============================] - 0s - loss: 0.7001 - val_loss: 0.7180\n",
      "Epoch 20/20\n",
      "52596/52596 [==============================] - 0s - loss: 0.6972 - val_loss: 0.7152\n"
     ]
    },
    {
     "data": {
      "text/plain": [
       "<keras.callbacks.History at 0x7effdc452c88>"
      ]
     },
     "execution_count": 9,
     "metadata": {},
     "output_type": "execute_result"
    }
   ],
   "source": [
    "X, X_test, Y, Y_test = train_test_split(X, Y, test_size=0.15, random_state=42)\n",
    "\n",
    "model = Sequential()\n",
    "model.add(Dense(nb_classes, input_shape=(dims,)))\n",
    "model.add(Activation('softmax'))\n",
    "model.compile(optimizer='sgd', loss='categorical_crossentropy')\n",
    "\n",
    "fBestModel = 'best_model.h5' \n",
    "early_stop = EarlyStopping(monitor='val_loss', patience=4, verbose=1) \n",
    "best_model = ModelCheckpoint(fBestModel, verbose=0, save_best_only=True)\n",
    "model.fit(X, Y, validation_data = (X_test, Y_test), nb_epoch=20, \n",
    "          batch_size=128, verbose=True, validation_split=0.15, \n",
    "          callbacks=[best_model, early_stop]) "
   ]
  },
  {
   "cell_type": "code",
   "execution_count": 10,
   "metadata": {
    "collapsed": false
   },
   "outputs": [
    {
     "name": "stdout",
     "output_type": "stream",
     "text": [
      "train accuracy is 0.7482318046999772\n"
     ]
    }
   ],
   "source": [
    "train_predictions = model.predict(X).argmax(axis=1)\n",
    "print('train accuracy is {0}'.format(sum(Y.argmax(axis=1)==train_predictions)/train_predictions.shape[0]))"
   ]
  },
  {
   "cell_type": "code",
   "execution_count": 11,
   "metadata": {
    "collapsed": false
   },
   "outputs": [
    {
     "name": "stdout",
     "output_type": "stream",
     "text": [
      "test accuracy is 0.7414350355526826\n"
     ]
    }
   ],
   "source": [
    "test_predictions = model.predict(X_test).argmax(axis=1)\n",
    "print('test accuracy is {0}'.format(sum(Y_test.argmax(axis=1)==test_predictions)/test_predictions.shape[0]))"
   ]
  },
  {
   "cell_type": "markdown",
   "metadata": {},
   "source": [
    "## Multi-Layer Perceptron and Fully Connected"
   ]
  },
  {
   "cell_type": "markdown",
   "metadata": {},
   "source": [
    "So, how hard can it be to build a Multi-Layer percepton with keras?\n",
    "It is baiscly the same, just add more layers!"
   ]
  },
  {
   "cell_type": "code",
   "execution_count": 12,
   "metadata": {
    "collapsed": false
   },
   "outputs": [
    {
     "name": "stdout",
     "output_type": "stream",
     "text": [
      "Train on 52596 samples, validate on 9282 samples\n",
      "Epoch 1/20\n",
      "52596/52596 [==============================] - 0s - loss: 1.1917 - val_loss: 0.8936\n",
      "Epoch 2/20\n",
      "52596/52596 [==============================] - 0s - loss: 0.8163 - val_loss: 0.7959\n",
      "Epoch 3/20\n",
      "52596/52596 [==============================] - 0s - loss: 0.7550 - val_loss: 0.7570\n",
      "Epoch 4/20\n",
      "52596/52596 [==============================] - 0s - loss: 0.7251 - val_loss: 0.7338\n",
      "Epoch 5/20\n",
      "52596/52596 [==============================] - 0s - loss: 0.7068 - val_loss: 0.7183\n",
      "Epoch 6/20\n",
      "52596/52596 [==============================] - 0s - loss: 0.6938 - val_loss: 0.7084\n",
      "Epoch 7/20\n",
      "52596/52596 [==============================] - 0s - loss: 0.6845 - val_loss: 0.7000\n",
      "Epoch 8/20\n",
      "52596/52596 [==============================] - 0s - loss: 0.6772 - val_loss: 0.6943\n",
      "Epoch 9/20\n",
      "52596/52596 [==============================] - 0s - loss: 0.6717 - val_loss: 0.6891\n",
      "Epoch 10/20\n",
      "52596/52596 [==============================] - 0s - loss: 0.6672 - val_loss: 0.6853\n",
      "Epoch 11/20\n",
      "52596/52596 [==============================] - 0s - loss: 0.6633 - val_loss: 0.6821\n",
      "Epoch 12/20\n",
      "52596/52596 [==============================] - 0s - loss: 0.6602 - val_loss: 0.6787\n",
      "Epoch 13/20\n",
      "52596/52596 [==============================] - 0s - loss: 0.6576 - val_loss: 0.6773\n",
      "Epoch 14/20\n",
      "52596/52596 [==============================] - 0s - loss: 0.6553 - val_loss: 0.6749\n",
      "Epoch 15/20\n",
      "52596/52596 [==============================] - 0s - loss: 0.6532 - val_loss: 0.6732\n",
      "Epoch 16/20\n",
      "52596/52596 [==============================] - 0s - loss: 0.6514 - val_loss: 0.6716\n",
      "Epoch 17/20\n",
      "52596/52596 [==============================] - 0s - loss: 0.6499 - val_loss: 0.6706\n",
      "Epoch 18/20\n",
      "52596/52596 [==============================] - 0s - loss: 0.6484 - val_loss: 0.6694\n",
      "Epoch 19/20\n",
      "52596/52596 [==============================] - 0s - loss: 0.6471 - val_loss: 0.6682\n",
      "Epoch 20/20\n",
      "52596/52596 [==============================] - 0s - loss: 0.6459 - val_loss: 0.6667\n"
     ]
    },
    {
     "data": {
      "text/plain": [
       "<keras.callbacks.History at 0x7effdc210e10>"
      ]
     },
     "execution_count": 12,
     "metadata": {},
     "output_type": "execute_result"
    }
   ],
   "source": [
    "model = Sequential()\n",
    "model.add(Dense(100, input_shape=(dims,)))\n",
    "model.add(Dense(nb_classes))\n",
    "model.add(Activation('softmax'))\n",
    "model.compile(optimizer='sgd', loss='categorical_crossentropy')\n",
    "model.fit(X, Y, validation_data = (X_test, Y_test), nb_epoch=20, \n",
    "          batch_size=128, verbose=True, validation_split=0.15, \n",
    "          callbacks=[best_model, early_stop]) "
   ]
  },
  {
   "cell_type": "code",
   "execution_count": 13,
   "metadata": {
    "collapsed": false
   },
   "outputs": [
    {
     "name": "stdout",
     "output_type": "stream",
     "text": [
      "train accuracy is 0.7609894288539052\n"
     ]
    }
   ],
   "source": [
    "train_predictions = model.predict(X).argmax(axis=1)\n",
    "print('train accuracy is {0}'.format(sum(Y.argmax(axis=1)==train_predictions)/train_predictions.shape[0]))"
   ]
  },
  {
   "cell_type": "code",
   "execution_count": 14,
   "metadata": {
    "collapsed": false
   },
   "outputs": [
    {
     "name": "stdout",
     "output_type": "stream",
     "text": [
      "test accuracy is 0.7541478129713424\n"
     ]
    }
   ],
   "source": [
    "test_predictions = model.predict(X_test).argmax(axis=1)\n",
    "print('test accuracy is {0}'.format(sum(Y_test.argmax(axis=1)==test_predictions)/test_predictions.shape[0]))"
   ]
  },
  {
   "cell_type": "markdown",
   "metadata": {},
   "source": [
    "Your Turn!"
   ]
  },
  {
   "cell_type": "markdown",
   "metadata": {},
   "source": [
    "## Hands On - Keras Fully Connected\n"
   ]
  },
  {
   "cell_type": "markdown",
   "metadata": {},
   "source": [
    "Take couple of minutes and Try and optimize the number of layers and the number of parameters in the layers to get the best results. "
   ]
  },
  {
   "cell_type": "code",
   "execution_count": 15,
   "metadata": {
    "collapsed": false
   },
   "outputs": [
    {
     "name": "stdout",
     "output_type": "stream",
     "text": [
      "Train on 52596 samples, validate on 9282 samples\n",
      "Epoch 1/50\n",
      "52596/52596 [==============================] - 1s - loss: 0.9776 - val_loss: 0.7799\n",
      "Epoch 2/50\n",
      "52596/52596 [==============================] - 0s - loss: 0.7315 - val_loss: 0.7228\n",
      "Epoch 3/50\n",
      "52596/52596 [==============================] - 0s - loss: 0.6956 - val_loss: 0.7017\n",
      "Epoch 4/50\n",
      "52596/52596 [==============================] - 0s - loss: 0.6786 - val_loss: 0.6891\n",
      "Epoch 5/50\n",
      "52596/52596 [==============================] - 0s - loss: 0.6684 - val_loss: 0.6821\n",
      "Epoch 6/50\n",
      "52596/52596 [==============================] - 1s - loss: 0.6610 - val_loss: 0.6828\n",
      "Epoch 7/50\n",
      "52596/52596 [==============================] - 1s - loss: 0.6565 - val_loss: 0.6736\n",
      "Epoch 8/50\n",
      "52596/52596 [==============================] - 0s - loss: 0.6529 - val_loss: 0.6687\n",
      "Epoch 9/50\n",
      "52596/52596 [==============================] - 0s - loss: 0.6501 - val_loss: 0.6689\n",
      "Epoch 10/50\n",
      "52596/52596 [==============================] - 0s - loss: 0.6473 - val_loss: 0.6670\n",
      "Epoch 11/50\n",
      "52596/52596 [==============================] - 1s - loss: 0.6456 - val_loss: 0.6624\n",
      "Epoch 12/50\n",
      "52596/52596 [==============================] - 0s - loss: 0.6437 - val_loss: 0.6637\n",
      "Epoch 13/50\n",
      "52596/52596 [==============================] - 0s - loss: 0.6423 - val_loss: 0.6645\n",
      "Epoch 14/50\n",
      "52596/52596 [==============================] - 1s - loss: 0.6417 - val_loss: 0.6611\n",
      "Epoch 15/50\n",
      "52596/52596 [==============================] - 1s - loss: 0.6402 - val_loss: 0.6622\n",
      "Epoch 16/50\n",
      "52596/52596 [==============================] - 0s - loss: 0.6393 - val_loss: 0.6623\n",
      "Epoch 17/50\n",
      "52596/52596 [==============================] - 0s - loss: 0.6386 - val_loss: 0.6606\n",
      "Epoch 18/50\n",
      "52596/52596 [==============================] - 0s - loss: 0.6377 - val_loss: 0.6603\n",
      "Epoch 19/50\n",
      "52596/52596 [==============================] - 0s - loss: 0.6369 - val_loss: 0.6607\n",
      "Epoch 20/50\n",
      "52596/52596 [==============================] - 0s - loss: 0.6370 - val_loss: 0.6643\n",
      "Epoch 21/50\n",
      "52596/52596 [==============================] - 0s - loss: 0.6359 - val_loss: 0.6606\n",
      "Epoch 22/50\n",
      "52596/52596 [==============================] - 1s - loss: 0.6349 - val_loss: 0.6626\n",
      "Epoch 23/50\n",
      "52596/52596 [==============================] - 1s - loss: 0.6351 - val_loss: 0.6598\n",
      "Epoch 24/50\n",
      "52596/52596 [==============================] - 0s - loss: 0.6346 - val_loss: 0.6578\n",
      "Epoch 25/50\n",
      "52596/52596 [==============================] - 0s - loss: 0.6339 - val_loss: 0.6616\n",
      "Epoch 26/50\n",
      "52596/52596 [==============================] - 0s - loss: 0.6332 - val_loss: 0.6598\n",
      "Epoch 27/50\n",
      "52596/52596 [==============================] - 0s - loss: 0.6331 - val_loss: 0.6586\n",
      "Epoch 28/50\n",
      "52596/52596 [==============================] - 0s - loss: 0.6328 - val_loss: 0.6558\n",
      "Epoch 29/50\n",
      "52596/52596 [==============================] - 0s - loss: 0.6322 - val_loss: 0.6584\n",
      "Epoch 30/50\n",
      "52596/52596 [==============================] - 0s - loss: 0.6318 - val_loss: 0.6564\n",
      "Epoch 31/50\n",
      "52596/52596 [==============================] - 0s - loss: 0.6323 - val_loss: 0.6574\n",
      "Epoch 32/50\n",
      "52596/52596 [==============================] - 0s - loss: 0.6316 - val_loss: 0.6597\n",
      "Epoch 33/50\n",
      "52224/52596 [============================>.] - ETA: 0s - loss: 0.6313Epoch 00032: early stopping\n",
      "52596/52596 [==============================] - 0s - loss: 0.6312 - val_loss: 0.6582\n"
     ]
    },
    {
     "data": {
      "text/plain": [
       "<keras.callbacks.History at 0x7effdbf59748>"
      ]
     },
     "execution_count": 15,
     "metadata": {},
     "output_type": "execute_result"
    }
   ],
   "source": [
    "model = Sequential()\n",
    "model.add(Dense(100, input_shape=(dims,)))\n",
    "\n",
    "# ...\n",
    "# ...\n",
    "# Play with it! add as much layers as you want! try and get better results.\n",
    "model.add(Dense(100))\n",
    "model.add(Dense(100))\n",
    "\n",
    "\n",
    "\n",
    "model.add(Dense(nb_classes))\n",
    "\n",
    "model.add(Activation('softmax'))\n",
    "model.compile(optimizer='sgd', loss='categorical_crossentropy')\n",
    "model.fit(X, Y, validation_data = (X_test, Y_test), nb_epoch=50, \n",
    "          batch_size=128, verbose=True, validation_split=0.15, \n",
    "          callbacks=[best_model, early_stop]) "
   ]
  },
  {
   "cell_type": "code",
   "execution_count": 16,
   "metadata": {
    "collapsed": false
   },
   "outputs": [
    {
     "name": "stdout",
     "output_type": "stream",
     "text": [
      "train accuracy is 0.7648680508023424\n"
     ]
    }
   ],
   "source": [
    "train_predictions = model.predict(X).argmax(axis=1)\n",
    "print('train accuracy is {0}'.format(sum(Y.argmax(axis=1)==train_predictions)/train_predictions.shape[0]))"
   ]
  },
  {
   "cell_type": "code",
   "execution_count": 17,
   "metadata": {
    "collapsed": false
   },
   "outputs": [
    {
     "name": "stdout",
     "output_type": "stream",
     "text": [
      "test accuracy is 0.7616892911010558\n"
     ]
    }
   ],
   "source": [
    "test_predictions = model.predict(X_test).argmax(axis=1)\n",
    "print('test accuracy is {0}'.format(sum(Y_test.argmax(axis=1)==test_predictions)/test_predictions.shape[0]))"
   ]
  },
  {
   "cell_type": "markdown",
   "metadata": {},
   "source": [
    "Building a question answering system, an image classification model, a Neural Turing Machine, a word2vec embedder or any other model is just as fast. The ideas behind deep learning are simple, so why should their implementation be painful?"
   ]
  },
  {
   "cell_type": "markdown",
   "metadata": {},
   "source": [
    "#### Theoretical Motivations for depth"
   ]
  },
  {
   "cell_type": "markdown",
   "metadata": {},
   "source": [
    ">Much has been studied about the depth of neural nets. Is has been proven mathematically[1] and empirically that convolutional neural network benifit from depth! "
   ]
  },
  {
   "cell_type": "markdown",
   "metadata": {},
   "source": [
    "[1] - On the Expressive Power of Deep Learning: A Tensor Analysis - Cohen, et al 2015"
   ]
  },
  {
   "cell_type": "markdown",
   "metadata": {},
   "source": [
    "#### Theoretical Motivations for depth"
   ]
  },
  {
   "cell_type": "markdown",
   "metadata": {},
   "source": [
    "One much quoted theorem about neural network states that:"
   ]
  },
  {
   "cell_type": "markdown",
   "metadata": {},
   "source": [
    ">Universal approximation theorem states[1] that a feed-forward network with a single hidden layer containing a finite number of neurons (i.e., a multilayer perceptron), can approximate continuous functions on compact subsets of $\\mathbb{R}^n$, under mild assumptions on the activation function. The theorem thus states that simple neural networks can represent a wide variety of interesting functions when given appropriate parameters; however, it does not touch upon the algorithmic learnability of those parameters."
   ]
  },
  {
   "cell_type": "markdown",
   "metadata": {},
   "source": [
    "[1] - Approximation Capabilities of Multilayer Feedforward Networks - Kurt Hornik 1991"
   ]
  }
 ],
 "metadata": {
  "kernelspec": {
   "display_name": "Python 3",
   "language": "python",
   "name": "python3"
  },
  "language_info": {
   "codemirror_mode": {
    "name": "ipython",
    "version": 3
   },
   "file_extension": ".py",
   "mimetype": "text/x-python",
   "name": "python",
   "nbconvert_exporter": "python",
   "pygments_lexer": "ipython3",
   "version": "3.5.2"
  }
 },
 "nbformat": 4,
 "nbformat_minor": 0
}
