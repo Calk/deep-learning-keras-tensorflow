{
 "cells": [
  {
   "cell_type": "code",
   "execution_count": 1,
   "metadata": {
    "collapsed": false
   },
   "outputs": [
    {
     "name": "stderr",
     "output_type": "stream",
     "text": [
      "Using Theano backend.\n"
     ]
    }
   ],
   "source": [
    "import numpy as np\n",
    "from keras.datasets import cifar10"
   ]
  },
  {
   "cell_type": "code",
   "execution_count": 2,
   "metadata": {
    "collapsed": false
   },
   "outputs": [],
   "source": [
    "(X_train, y_train), (X_test, y_test) = cifar10.load_data()\n",
    "\n",
    "X_train = np.swapaxes(X_train,1,3)\n",
    "X_train = np.swapaxes(X_train,1,2)\n",
    "\n",
    "X_test = np.swapaxes(X_test,1,3)\n",
    "X_test = np.swapaxes(X_test,1,2)"
   ]
  },
  {
   "cell_type": "code",
   "execution_count": 3,
   "metadata": {
    "collapsed": true
   },
   "outputs": [],
   "source": [
    "# exercise - implement convnet on Cifar10\n",
    "from keras.models import Sequential\n",
    "from keras.layers.core import Dense, Dropout, Activation, Flatten\n",
    "from keras.layers.convolutional import Convolution2D\n",
    "from keras.layers.pooling import MaxPooling2D\n",
    "from keras.utils import np_utils\n",
    "from keras.optimizers import SGD"
   ]
  },
  {
   "cell_type": "code",
   "execution_count": 4,
   "metadata": {
    "collapsed": true
   },
   "outputs": [],
   "source": [
    "import tensorflow as tf\n",
    "tf.python.control_flow_ops = tf"
   ]
  },
  {
   "cell_type": "code",
   "execution_count": 5,
   "metadata": {
    "collapsed": false
   },
   "outputs": [],
   "source": [
    "img_rows, img_cols = 32, 32\n",
    "nb_classes = 10\n",
    "\n",
    "X_train = X_train.reshape(X_train.shape[0], img_rows, img_cols,3)\n",
    "X_test = X_test.reshape(X_test.shape[0], img_rows, img_cols,3)\n",
    "\n",
    "X_train = X_train.astype('float32')\n",
    "X_test = X_test.astype('float32')\n",
    "\n",
    "X_train /= 255\n",
    "X_test /= 255\n",
    "\n",
    "Y_train = np_utils.to_categorical(y_train,nb_classes)\n",
    "Y_test = np_utils.to_categorical(y_test,nb_classes)"
   ]
  },
  {
   "cell_type": "code",
   "execution_count": 6,
   "metadata": {
    "collapsed": false
   },
   "outputs": [
    {
     "name": "stdout",
     "output_type": "stream",
     "text": [
      "(50000, 32, 32, 3) (50000, 10) (10000, 32, 32, 3) (10000, 10)\n"
     ]
    }
   ],
   "source": [
    "print(X_train.shape, Y_train.shape, X_test.shape, Y_test.shape)"
   ]
  },
  {
   "cell_type": "code",
   "execution_count": 7,
   "metadata": {
    "collapsed": true
   },
   "outputs": [],
   "source": [
    "# Model 1"
   ]
  },
  {
   "cell_type": "code",
   "execution_count": 8,
   "metadata": {
    "collapsed": false
   },
   "outputs": [
    {
     "name": "stdout",
     "output_type": "stream",
     "text": [
      "Train on 50000 samples, validate on 10000 samples\n",
      "Epoch 1/5\n",
      "50000/50000 [==============================] - 230s - loss: 1.9033 - acc: 0.3191 - val_loss: 1.6408 - val_acc: 0.4241\n",
      "Epoch 2/5\n",
      "50000/50000 [==============================] - 258s - loss: 1.5341 - acc: 0.4591 - val_loss: 1.4398 - val_acc: 0.4951\n",
      "Epoch 3/5\n",
      "50000/50000 [==============================] - 223s - loss: 1.3936 - acc: 0.5105 - val_loss: 1.4348 - val_acc: 0.4857\n",
      "Epoch 4/5\n",
      "50000/50000 [==============================] - 204s - loss: 1.3070 - acc: 0.5433 - val_loss: 1.2855 - val_acc: 0.5417\n",
      "Epoch 5/5\n",
      "50000/50000 [==============================] - 227s - loss: 1.2394 - acc: 0.5668 - val_loss: 1.2628 - val_acc: 0.5503\n",
      "Test score: 1.26276059532\n",
      "Test accuracy: 0.5503\n"
     ]
    }
   ],
   "source": [
    "model1 = Sequential()\n",
    "model1.add(Convolution2D(32, 3, 3,\n",
    "                    border_mode='valid',\n",
    "                    input_shape=(img_rows, img_cols,3)))\n",
    "model1.add(Activation('relu'))\n",
    "model1.add(MaxPooling2D(pool_size=(2, 2)))\n",
    "model1.add(Flatten())\n",
    "model1.add(Dense(128))\n",
    "model1.add(Activation('relu'))\n",
    "model1.add(Dense(nb_classes))\n",
    "model1.add(Activation('softmax'))\n",
    "\n",
    "model1.compile(loss='categorical_crossentropy',\n",
    "          optimizer='sgd',\n",
    "          metrics=['accuracy'])\n",
    "\n",
    "model1.fit(X_train, Y_train, batch_size=32, \n",
    "          nb_epoch=5,verbose=1,\n",
    "          validation_data=(X_test, Y_test))\n",
    "\n",
    "\n",
    "#Evaluating the model on the test data    \n",
    "score, accuracy = model1.evaluate(X_test, Y_test, verbose=0)\n",
    "print('Test score:', score)\n",
    "print('Test accuracy:', accuracy)"
   ]
  },
  {
   "cell_type": "markdown",
   "metadata": {},
   "source": [
    "# Model 2"
   ]
  },
  {
   "cell_type": "code",
   "execution_count": 9,
   "metadata": {
    "collapsed": false
   },
   "outputs": [
    {
     "name": "stdout",
     "output_type": "stream",
     "text": [
      "Train on 50000 samples, validate on 10000 samples\n",
      "Epoch 1/10\n",
      "50000/50000 [==============================] - 100s - loss: 2.2705 - acc: 0.1710 - val_loss: 2.1588 - val_acc: 0.2108\n",
      "Epoch 2/10\n",
      "50000/50000 [==============================] - 93s - loss: 1.9591 - acc: 0.2975 - val_loss: 1.8143 - val_acc: 0.3602\n",
      "Epoch 3/10\n",
      "50000/50000 [==============================] - 93s - loss: 1.7655 - acc: 0.3718 - val_loss: 1.7491 - val_acc: 0.3813\n",
      "Epoch 4/10\n",
      "50000/50000 [==============================] - 87s - loss: 1.6605 - acc: 0.4069 - val_loss: 1.6482 - val_acc: 0.4143\n",
      "Epoch 5/10\n",
      "50000/50000 [==============================] - 85s - loss: 1.6017 - acc: 0.4252 - val_loss: 1.6012 - val_acc: 0.4249\n",
      "Epoch 6/10\n",
      "50000/50000 [==============================] - 90s - loss: 1.5577 - acc: 0.4441 - val_loss: 1.5614 - val_acc: 0.4428\n",
      "Epoch 7/10\n",
      "50000/50000 [==============================] - 88s - loss: 1.5203 - acc: 0.4590 - val_loss: 1.5281 - val_acc: 0.4553\n",
      "Epoch 8/10\n",
      "50000/50000 [==============================] - 93s - loss: 1.4906 - acc: 0.4707 - val_loss: 1.5226 - val_acc: 0.4647\n",
      "Epoch 9/10\n",
      "50000/50000 [==============================] - 90s - loss: 1.4658 - acc: 0.4788 - val_loss: 1.4876 - val_acc: 0.4674\n",
      "Epoch 10/10\n",
      "50000/50000 [==============================] - 91s - loss: 1.4399 - acc: 0.4888 - val_loss: 1.4585 - val_acc: 0.4809\n",
      "Test score: 1.45852854462\n",
      "Test accuracy: 0.4809\n"
     ]
    }
   ],
   "source": [
    "model2 = Sequential()\n",
    "model2.add(Convolution2D(4, 3, 3,\n",
    "                    border_mode='valid',\n",
    "                    input_shape=(img_rows, img_cols,3)))\n",
    "model2.add(Activation('relu'))\n",
    "model2.add(Convolution2D(4, 3, 3,\n",
    "                    border_mode='valid',\n",
    "                    input_shape=(img_rows, img_cols,3)))\n",
    "model2.add(Activation('relu'))\n",
    "model2.add(MaxPooling2D(pool_size=(2, 2)))\n",
    "model2.add(Convolution2D(4, 3, 3,\n",
    "                    border_mode='valid',\n",
    "                    input_shape=(img_rows, img_cols,3)))\n",
    "model2.add(Activation('relu'))\n",
    "model2.add(Convolution2D(4, 3, 3,\n",
    "                    border_mode='valid',\n",
    "                    input_shape=(img_rows, img_cols,3)))\n",
    "model2.add(Activation('relu'))\n",
    "model2.add(Flatten())\n",
    "model2.add(Dense(128))\n",
    "model2.add(Activation('relu'))\n",
    "model2.add(Dense(nb_classes))\n",
    "model2.add(Activation('softmax'))\n",
    "\n",
    "model2.compile(loss='categorical_crossentropy',\n",
    "          optimizer='sgd',\n",
    "          metrics=['accuracy'])\n",
    "\n",
    "model2.fit(X_train, Y_train, batch_size=32, \n",
    "          nb_epoch=10,verbose=1,\n",
    "          validation_data=(X_test, Y_test))\n",
    "\n",
    "\n",
    "#Evaluating the model on the test data    \n",
    "score, accuracy = model2.evaluate(X_test, Y_test, verbose=0)\n",
    "print('Test score:', score)\n",
    "print('Test accuracy:', accuracy)"
   ]
  },
  {
   "cell_type": "markdown",
   "metadata": {},
   "source": [
    "# Model 3"
   ]
  },
  {
   "cell_type": "code",
   "execution_count": 10,
   "metadata": {
    "collapsed": false
   },
   "outputs": [
    {
     "name": "stdout",
     "output_type": "stream",
     "text": [
      "Train on 50000 samples, validate on 10000 samples\n",
      "Epoch 1/10\n",
      "50000/50000 [==============================] - 428s - loss: 2.0292 - acc: 0.2532 - val_loss: 1.7992 - val_acc: 0.3652\n",
      "Epoch 2/10\n",
      "50000/50000 [==============================] - 452s - loss: 1.6891 - acc: 0.3991 - val_loss: 1.5743 - val_acc: 0.4354\n",
      "Epoch 3/10\n",
      "50000/50000 [==============================] - 449s - loss: 1.5300 - acc: 0.4556 - val_loss: 1.6530 - val_acc: 0.4173\n",
      "Epoch 4/10\n",
      "50000/50000 [==============================] - 459s - loss: 1.4295 - acc: 0.4903 - val_loss: 1.4271 - val_acc: 0.4907\n",
      "Epoch 5/10\n",
      "50000/50000 [==============================] - 461s - loss: 1.3497 - acc: 0.5198 - val_loss: 1.5450 - val_acc: 0.4725\n",
      "Epoch 6/10\n",
      "50000/50000 [==============================] - 461s - loss: 1.2829 - acc: 0.5461 - val_loss: 1.3464 - val_acc: 0.5221\n",
      "Epoch 7/10\n",
      "50000/50000 [==============================] - 464s - loss: 1.2274 - acc: 0.5645 - val_loss: 1.2202 - val_acc: 0.5714\n",
      "Epoch 8/10\n",
      "50000/50000 [==============================] - 470s - loss: 1.1745 - acc: 0.5840 - val_loss: 1.1841 - val_acc: 0.5813\n",
      "Epoch 9/10\n",
      "50000/50000 [==============================] - 473s - loss: 1.1258 - acc: 0.6035 - val_loss: 1.2837 - val_acc: 0.5482\n",
      "Epoch 10/10\n",
      "50000/50000 [==============================] - 467s - loss: 1.0782 - acc: 0.6202 - val_loss: 1.1716 - val_acc: 0.5875\n",
      "Test score: 1.17164474335\n",
      "Test accuracy: 0.5875\n"
     ]
    }
   ],
   "source": [
    "model3 = Sequential()\n",
    "model3.add(Convolution2D(32, 3, 3,\n",
    "                    border_mode='valid',\n",
    "                    input_shape=(img_rows, img_cols,3)))\n",
    "model3.add(Activation('relu'))\n",
    "\n",
    "model3.add(MaxPooling2D(pool_size=(2, 2)))\n",
    "\n",
    "model3.add(Convolution2D(32, 3, 3,\n",
    "                    border_mode='valid',\n",
    "                    input_shape=(img_rows, img_cols,3)))\n",
    "model3.add(Activation('relu'))\n",
    "\n",
    "model3.add(Flatten())\n",
    "model3.add(Dense(128))\n",
    "model3.add(Activation('relu'))\n",
    "\n",
    "model3.add(Dense(128))\n",
    "model3.add(Activation('relu'))\n",
    "\n",
    "model3.add(Dense(nb_classes))\n",
    "model3.add(Activation('softmax'))\n",
    "\n",
    "model3.compile(loss='categorical_crossentropy',\n",
    "          optimizer='sgd',\n",
    "          metrics=['accuracy'])\n",
    "\n",
    "model3.fit(X_train, Y_train, batch_size=32, \n",
    "          nb_epoch=10,verbose=1,\n",
    "          validation_data=(X_test, Y_test))\n",
    "\n",
    "\n",
    "#Evaluating the model on the test data    \n",
    "score, accuracy = model3.evaluate(X_test, Y_test, verbose=0)\n",
    "print('Test score:', score)\n",
    "print('Test accuracy:', accuracy)"
   ]
  },
  {
   "cell_type": "markdown",
   "metadata": {},
   "source": [
    "# Ensemble"
   ]
  },
  {
   "cell_type": "code",
   "execution_count": 11,
   "metadata": {
    "collapsed": false
   },
   "outputs": [],
   "source": [
    "predictions1 = model1.predict(X_test)"
   ]
  },
  {
   "cell_type": "code",
   "execution_count": 12,
   "metadata": {
    "collapsed": true
   },
   "outputs": [],
   "source": [
    "predictions2 = model2.predict(X_test)"
   ]
  },
  {
   "cell_type": "code",
   "execution_count": 13,
   "metadata": {
    "collapsed": true
   },
   "outputs": [],
   "source": [
    "predictions3 = model3.predict(X_test)"
   ]
  },
  {
   "cell_type": "code",
   "execution_count": 20,
   "metadata": {
    "collapsed": true
   },
   "outputs": [],
   "source": [
    "predictions_avg = predictions1 +  predictions3 "
   ]
  },
  {
   "cell_type": "code",
   "execution_count": 21,
   "metadata": {
    "collapsed": false
   },
   "outputs": [
    {
     "data": {
      "text/plain": [
       "0.6018"
      ]
     },
     "execution_count": 21,
     "metadata": {},
     "output_type": "execute_result"
    }
   ],
   "source": [
    "(predictions_avg.argmax(axis=1)==y_test.ravel()).sum()/y_test.shape[0]"
   ]
  },
  {
   "cell_type": "code",
   "execution_count": null,
   "metadata": {
    "collapsed": true
   },
   "outputs": [],
   "source": []
  }
 ],
 "metadata": {
  "kernelspec": {
   "display_name": "Python 3",
   "language": "python",
   "name": "python3"
  },
  "language_info": {
   "codemirror_mode": {
    "name": "ipython",
    "version": 3
   },
   "file_extension": ".py",
   "mimetype": "text/x-python",
   "name": "python",
   "nbconvert_exporter": "python",
   "pygments_lexer": "ipython3",
   "version": "3.5.2"
  }
 },
 "nbformat": 4,
 "nbformat_minor": 0
}
