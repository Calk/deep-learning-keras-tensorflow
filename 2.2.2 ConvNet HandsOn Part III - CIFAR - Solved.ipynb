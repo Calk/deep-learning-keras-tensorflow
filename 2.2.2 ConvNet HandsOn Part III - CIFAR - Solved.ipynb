{
 "cells": [
  {
   "cell_type": "code",
   "execution_count": 1,
   "metadata": {
    "collapsed": false
   },
   "outputs": [
    {
     "name": "stderr",
     "output_type": "stream",
     "text": [
      "Using TensorFlow backend.\n"
     ]
    }
   ],
   "source": [
    "import numpy as np\n",
    "from keras.datasets import cifar10\n",
    "import matplotlib.pyplot as plt\n",
    "%matplotlib inline"
   ]
  },
  {
   "cell_type": "code",
   "execution_count": 2,
   "metadata": {
    "collapsed": false
   },
   "outputs": [],
   "source": [
    "(X_train, y_train), (X_test, y_test) = cifar10.load_data()\n",
    "\n",
    "X_train = np.swapaxes(X_train,1,3)\n",
    "X_train = np.swapaxes(X_train,1,2)\n",
    "\n",
    "X_test = np.swapaxes(X_test,1,3)\n",
    "X_test = np.swapaxes(X_test,1,2)"
   ]
  },
  {
   "cell_type": "code",
   "execution_count": 3,
   "metadata": {
    "collapsed": true
   },
   "outputs": [],
   "source": [
    "# exercise - implement convnet on Cifar10\n",
    "from keras.models import Sequential\n",
    "from keras.layers.core import Dense, Dropout, Activation, Flatten\n",
    "from keras.layers.convolutional import Convolution2D\n",
    "from keras.layers.pooling import MaxPooling2D\n",
    "from keras.utils import np_utils\n",
    "from keras.optimizers import SGD"
   ]
  },
  {
   "cell_type": "code",
   "execution_count": 4,
   "metadata": {
    "collapsed": true
   },
   "outputs": [],
   "source": [
    "import tensorflow as tf\n",
    "tf.python.control_flow_ops = tf"
   ]
  },
  {
   "cell_type": "code",
   "execution_count": 5,
   "metadata": {
    "collapsed": false
   },
   "outputs": [],
   "source": [
    "img_rows, img_cols = 32, 32\n",
    "nb_classes = 10\n",
    "\n",
    "X_train = X_train.reshape(X_train.shape[0], img_rows, img_cols,3)\n",
    "X_test = X_test.reshape(X_test.shape[0], img_rows, img_cols,3)\n",
    "\n",
    "X_train = X_train.astype('float32')\n",
    "X_test = X_test.astype('float32')\n",
    "\n",
    "X_train /= 255\n",
    "X_test /= 255\n",
    "\n",
    "Y_train = np_utils.to_categorical(y_train,nb_classes)\n",
    "Y_test = np_utils.to_categorical(y_test,nb_classes)"
   ]
  },
  {
   "cell_type": "code",
   "execution_count": 6,
   "metadata": {
    "collapsed": false,
    "scrolled": true
   },
   "outputs": [
    {
     "name": "stdout",
     "output_type": "stream",
     "text": [
      "(50000, 32, 32, 3) (50000, 10) (10000, 32, 32, 3) (10000, 10)\n"
     ]
    }
   ],
   "source": [
    "print(X_train.shape, Y_train.shape, X_test.shape, Y_test.shape)"
   ]
  },
  {
   "cell_type": "code",
   "execution_count": 7,
   "metadata": {
    "collapsed": false
   },
   "outputs": [
    {
     "name": "stdout",
     "output_type": "stream",
     "text": [
      "Train on 50000 samples, validate on 10000 samples\n",
      "Epoch 1/10\n",
      "50000/50000 [==============================] - 49s - loss: 2.2238 - acc: 0.1566 - val_loss: 2.0275 - val_acc: 0.2689\n",
      "Epoch 2/10\n",
      "50000/50000 [==============================] - 67s - loss: 2.0306 - acc: 0.2470 - val_loss: 1.8268 - val_acc: 0.3558\n",
      "Epoch 3/10\n",
      "50000/50000 [==============================] - 206s - loss: 1.8564 - acc: 0.3140 - val_loss: 1.6302 - val_acc: 0.4156\n",
      "Epoch 4/10\n",
      "50000/50000 [==============================] - 231s - loss: 1.7348 - acc: 0.3624 - val_loss: 1.6105 - val_acc: 0.4207\n",
      "Epoch 5/10\n",
      "50000/50000 [==============================] - 239s - loss: 1.6570 - acc: 0.3950 - val_loss: 1.4898 - val_acc: 0.4622\n",
      "Epoch 6/10\n",
      "50000/50000 [==============================] - 220s - loss: 1.5864 - acc: 0.4274 - val_loss: 1.3907 - val_acc: 0.4972\n",
      "Epoch 7/10\n",
      "50000/50000 [==============================] - 210s - loss: 1.5303 - acc: 0.4492 - val_loss: 1.3617 - val_acc: 0.5139\n",
      "Epoch 8/10\n",
      "50000/50000 [==============================] - 210s - loss: 1.4764 - acc: 0.4709 - val_loss: 1.3078 - val_acc: 0.5299\n",
      "Epoch 9/10\n",
      "50000/50000 [==============================] - 208s - loss: 1.4298 - acc: 0.4870 - val_loss: 1.2809 - val_acc: 0.5400\n",
      "Epoch 10/10\n",
      "50000/50000 [==============================] - 215s - loss: 1.3883 - acc: 0.5040 - val_loss: 1.3857 - val_acc: 0.5191\n",
      "Test score: 1.38566512604\n",
      "Test accuracy: 0.5191\n"
     ]
    }
   ],
   "source": [
    "model = Sequential()\n",
    "model.add(Convolution2D(32, 3, 3,\n",
    "                    border_mode='valid',\n",
    "                    input_shape=(img_rows, img_cols,3)))\n",
    "model.add(Activation('relu'))\n",
    "\n",
    "model.add(MaxPooling2D(pool_size=(2, 2)))\n",
    "\n",
    "model.add(Convolution2D(32, 3, 3))\n",
    "model.add(Activation('relu'))\n",
    "\n",
    "model.add(Dropout(0.25))\n",
    "\n",
    "model.add(Flatten())\n",
    "model.add(Dense(128))\n",
    "model.add(Activation('relu'))\n",
    "model.add(Dropout(0.5))\n",
    "\n",
    "model.add(Dense(128))\n",
    "model.add(Activation('relu'))\n",
    "model.add(Dropout(0.5))\n",
    "\n",
    "\n",
    "model.add(Dense(nb_classes))\n",
    "model.add(Activation('softmax'))\n",
    "\n",
    "model.compile(loss='categorical_crossentropy',\n",
    "          optimizer='sgd',\n",
    "          metrics=['accuracy'])\n",
    "\n",
    "model.fit(X_train, Y_train, batch_size=32, \n",
    "          nb_epoch=10,verbose=1,\n",
    "          validation_data=(X_test, Y_test))\n",
    "\n",
    "\n",
    "#Evaluating the model on the test data    \n",
    "score, accuracy = model.evaluate(X_test, Y_test, verbose=0)\n",
    "print('Test score:', score)\n",
    "print('Test accuracy:', accuracy)"
   ]
  },
  {
   "cell_type": "code",
   "execution_count": 8,
   "metadata": {
    "collapsed": true
   },
   "outputs": [],
   "source": [
    "#NOW with data augmentation"
   ]
  },
  {
   "cell_type": "code",
   "execution_count": 9,
   "metadata": {
    "collapsed": false
   },
   "outputs": [
    {
     "name": "stdout",
     "output_type": "stream",
     "text": [
      "Using real-time data augmentation.\n",
      "Epoch 1/10\n",
      "50000/50000 [==============================] - 235s - loss: 2.2371 - acc: 0.1530 - val_loss: 2.0362 - val_acc: 0.2695\n",
      "Epoch 2/10\n",
      "50000/50000 [==============================] - 239s - loss: 2.0612 - acc: 0.2341 - val_loss: 1.9104 - val_acc: 0.3170\n",
      "Epoch 3/10\n",
      "50000/50000 [==============================] - 246s - loss: 1.9129 - acc: 0.2951 - val_loss: 1.7060 - val_acc: 0.3728\n",
      "Epoch 4/10\n",
      "50000/50000 [==============================] - 240s - loss: 1.7962 - acc: 0.3333 - val_loss: 1.6302 - val_acc: 0.4118\n",
      "Epoch 5/10\n",
      "50000/50000 [==============================] - 248s - loss: 1.7163 - acc: 0.3679 - val_loss: 1.5127 - val_acc: 0.4484\n",
      "Epoch 6/10\n",
      "50000/50000 [==============================] - 214s - loss: 1.6389 - acc: 0.3996 - val_loss: 1.4148 - val_acc: 0.4918\n",
      "Epoch 7/10\n",
      "50000/50000 [==============================] - 172s - loss: 1.5945 - acc: 0.4210 - val_loss: 1.4937 - val_acc: 0.4723\n",
      "Epoch 8/10\n",
      "50000/50000 [==============================] - 204s - loss: 1.5566 - acc: 0.4361 - val_loss: 1.3311 - val_acc: 0.5279\n",
      "Epoch 9/10\n",
      "50000/50000 [==============================] - 208s - loss: 1.5237 - acc: 0.4527 - val_loss: 1.2979 - val_acc: 0.5450\n",
      "Epoch 10/10\n",
      "50000/50000 [==============================] - 220s - loss: 1.4907 - acc: 0.4645 - val_loss: 1.2933 - val_acc: 0.5427\n"
     ]
    },
    {
     "data": {
      "text/plain": [
       "<keras.callbacks.History at 0x7f182e11eb00>"
      ]
     },
     "execution_count": 9,
     "metadata": {},
     "output_type": "execute_result"
    }
   ],
   "source": [
    "from keras.preprocessing.image import ImageDataGenerator\n",
    "\n",
    "\n",
    "model = Sequential()\n",
    "model.add(Convolution2D(32, 3, 3,\n",
    "                    border_mode='valid',\n",
    "                    input_shape=(img_rows, img_cols,3)))\n",
    "model.add(Activation('relu'))\n",
    "\n",
    "model.add(MaxPooling2D(pool_size=(2, 2)))\n",
    "\n",
    "model.add(Convolution2D(32, 3, 3))\n",
    "model.add(Activation('relu'))\n",
    "\n",
    "model.add(Dropout(0.25))\n",
    "\n",
    "model.add(Flatten())\n",
    "model.add(Dense(128))\n",
    "model.add(Activation('relu'))\n",
    "model.add(Dropout(0.5))\n",
    "\n",
    "model.add(Dense(128))\n",
    "model.add(Activation('relu'))\n",
    "model.add(Dropout(0.5))\n",
    "\n",
    "\n",
    "model.add(Dense(nb_classes))\n",
    "model.add(Activation('softmax'))\n",
    "\n",
    "model.compile(loss='categorical_crossentropy',\n",
    "          optimizer='sgd',\n",
    "          metrics=['accuracy'])\n",
    "\n",
    "\n",
    "print('Using real-time data augmentation.')\n",
    "# This will do preprocessing and realtime data augmentation:\n",
    "datagen = ImageDataGenerator(\n",
    "    width_shift_range=0.1,  # randomly shift images horizontally (fraction of total width)\n",
    "    height_shift_range=0.1,  # randomly shift images vertically (fraction of total height)\n",
    "    horizontal_flip=True,  # randomly flip images\n",
    "    vertical_flip=False)  # randomly flip images\n",
    "\n",
    "# Compute quantities required for featurewise normalization\n",
    "# (std, mean, and principal components if ZCA whitening is applied).\n",
    "datagen.fit(X_train)\n",
    "\n",
    "# Fit the model on the batches generated by datagen.flow().\n",
    "model.fit_generator(datagen.flow(X_train, Y_train,\n",
    "                    batch_size=32),\n",
    "                    samples_per_epoch=X_train.shape[0],\n",
    "                    nb_epoch=10,verbose=1,\n",
    "                    validation_data=(X_test, Y_test))"
   ]
  },
  {
   "cell_type": "code",
   "execution_count": 10,
   "metadata": {
    "collapsed": false
   },
   "outputs": [
    {
     "name": "stdout",
     "output_type": "stream",
     "text": [
      "Test score: 1.29327878952\n",
      "Test accuracy: 0.5427\n"
     ]
    }
   ],
   "source": [
    "#Evaluating the model on the test data    \n",
    "score, accuracy = model.evaluate(X_test, Y_test, verbose=0)\n",
    "print('Test score:', score)\n",
    "print('Test accuracy:', accuracy)"
   ]
  },
  {
   "cell_type": "code",
   "execution_count": null,
   "metadata": {
    "collapsed": true
   },
   "outputs": [],
   "source": []
  }
 ],
 "metadata": {
  "kernelspec": {
   "display_name": "Python 3",
   "language": "python",
   "name": "python3"
  },
  "language_info": {
   "codemirror_mode": {
    "name": "ipython",
    "version": 3
   },
   "file_extension": ".py",
   "mimetype": "text/x-python",
   "name": "python",
   "nbconvert_exporter": "python",
   "pygments_lexer": "ipython3",
   "version": "3.5.2"
  }
 },
 "nbformat": 4,
 "nbformat_minor": 0
}
